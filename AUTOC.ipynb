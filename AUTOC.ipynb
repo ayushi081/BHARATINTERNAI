{
  "nbformat": 4,
  "nbformat_minor": 0,
  "metadata": {
    "colab": {
      "provenance": [],
      "authorship_tag": "ABX9TyM29w8Afy3T/GkWHIg0Vsfb",
      "include_colab_link": true
    },
    "kernelspec": {
      "name": "python3",
      "display_name": "Python 3"
    },
    "language_info": {
      "name": "python"
    }
  },
  "cells": [
    {
      "cell_type": "markdown",
      "metadata": {
        "id": "view-in-github",
        "colab_type": "text"
      },
      "source": [
        "<a href=\"https://colab.research.google.com/github/ayushi081/BHARATINTERNAI/blob/main/AUTOC.ipynb\" target=\"_parent\"><img src=\"https://colab.research.google.com/assets/colab-badge.svg\" alt=\"Open In Colab\"/></a>"
      ]
    },
    {
      "cell_type": "markdown",
      "source": [
        "**BHARAT INTERN AI TASK 2**"
      ],
      "metadata": {
        "id": "g4ILSh2rgOpX"
      }
    },
    {
      "cell_type": "code",
      "execution_count": 7,
      "metadata": {
        "colab": {
          "base_uri": "https://localhost:8080/"
        },
        "id": "vHdTVAL_f7Me",
        "outputId": "f05c3109-7da1-47cc-a91d-2a021d3c9172"
      },
      "outputs": [
        {
          "output_type": "stream",
          "name": "stdout",
          "text": [
            "Looking in indexes: https://pypi.org/simple, https://us-python.pkg.dev/colab-wheels/public/simple/\n",
            "Requirement already satisfied: autocorrect in /usr/local/lib/python3.10/dist-packages (2.6.1)\n"
          ]
        }
      ],
      "source": [
        "#installing Auto correct to collab\n",
        "!pip install autocorrect"
      ]
    },
    {
      "cell_type": "code",
      "source": [
        "#importing The Libraries\n",
        "from autocorrect import Speller"
      ],
      "metadata": {
        "id": "MFSobE23ghTi"
      },
      "execution_count": 8,
      "outputs": []
    },
    {
      "cell_type": "code",
      "source": [
        "# Create an instance/object of the Speller class\n",
        "spell = Speller(lang='en')\n",
        ""
      ],
      "metadata": {
        "id": "ufmkhM4bgjhT"
      },
      "execution_count": 9,
      "outputs": []
    },
    {
      "cell_type": "code",
      "source": [
        "# Take input from the user\n",
        "input_word = input(\"Enter a word: \")"
      ],
      "metadata": {
        "colab": {
          "base_uri": "https://localhost:8080/"
        },
        "id": "SMrmVsjWgqC0",
        "outputId": "2571fa00-a045-494c-ca09-b9211c09a01d"
      },
      "execution_count": 10,
      "outputs": [
        {
          "name": "stdout",
          "output_type": "stream",
          "text": [
            "Enter a word: rece\n"
          ]
        }
      ]
    },
    {
      "cell_type": "code",
      "source": [
        "# Perform auto-correction\n",
        "corrected_word = spell(input_word)"
      ],
      "metadata": {
        "id": "HpjL6WTagt1B"
      },
      "execution_count": 11,
      "outputs": []
    },
    {
      "cell_type": "code",
      "source": [
        "# Check if the input word is already correct\n",
        "if corrected_word == input_word:\n",
        "    print(f\"The word '{input_word}' is spelled correctly.\")\n",
        "else:\n",
        "    print(f\"Did you mean '{corrected_word}'?\")"
      ],
      "metadata": {
        "colab": {
          "base_uri": "https://localhost:8080/"
        },
        "id": "evQbpmNtgy7M",
        "outputId": "d38c71f1-2280-472b-d97f-ac003693cb98"
      },
      "execution_count": 12,
      "outputs": [
        {
          "output_type": "stream",
          "name": "stdout",
          "text": [
            "Did you mean 'race'?\n"
          ]
        }
      ]
    }
  ]
}