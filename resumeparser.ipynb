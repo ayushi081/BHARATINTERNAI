{
  "nbformat": 4,
  "nbformat_minor": 0,
  "metadata": {
    "colab": {
      "provenance": [],
      "authorship_tag": "ABX9TyPPPF0WxGnkOfiMpgBXuoMC",
      "include_colab_link": true
    },
    "kernelspec": {
      "name": "python3",
      "display_name": "Python 3"
    },
    "language_info": {
      "name": "python"
    }
  },
  "cells": [
    {
      "cell_type": "markdown",
      "metadata": {
        "id": "view-in-github",
        "colab_type": "text"
      },
      "source": [
        "<a href=\"https://colab.research.google.com/github/ayushi081/BHARATINTERNAI/blob/main/resumeparser.ipynb\" target=\"_parent\"><img src=\"https://colab.research.google.com/assets/colab-badge.svg\" alt=\"Open In Colab\"/></a>"
      ]
    },
    {
      "cell_type": "markdown",
      "source": [
        "**RESUME PARSER AI TASK 1 BHARAT INTERN**"
      ],
      "metadata": {
        "id": "rl3uUmyKjJKT"
      }
    },
    {
      "cell_type": "code",
      "execution_count": null,
      "metadata": {
        "id": "mok6kRcwjGTM"
      },
      "outputs": [],
      "source": [
        "# installing NLTK in Collab\n",
        "!pip install nltk"
      ]
    },
    {
      "cell_type": "code",
      "source": [
        "#importing the Requirements\n",
        "import nltk\n",
        "from nltk.corpus import wordnet\n",
        "\n",
        "nltk.download('punkt')\n",
        "nltk.download('wordnet')"
      ],
      "metadata": {
        "colab": {
          "base_uri": "https://localhost:8080/"
        },
        "id": "nkBs1q54jcmW",
        "outputId": "197009c8-d20f-4566-955d-314ceb9c3a9e"
      },
      "execution_count": 2,
      "outputs": [
        {
          "output_type": "stream",
          "name": "stderr",
          "text": [
            "[nltk_data] Downloading package punkt to /root/nltk_data...\n",
            "[nltk_data]   Unzipping tokenizers/punkt.zip.\n",
            "[nltk_data] Downloading package wordnet to /root/nltk_data...\n"
          ]
        },
        {
          "output_type": "execute_result",
          "data": {
            "text/plain": [
              "True"
            ]
          },
          "metadata": {},
          "execution_count": 2
        }
      ]
    },
    {
      "cell_type": "code",
      "source": [
        "# Define job requirements and candidate profiles\n",
        "job_requirements = \"We are looking for a candidate with strong programming skills in Python, experience with machine learning, and excellent communication skills.\"\n",
        "candidate_profiles = [\n",
        "    {\n",
        "        \"name\": \"Ayushi\",\n",
        "        \"skills\": [\"Python\", \"Java\", \"C++\"],\n",
        "        \"experience\": [\"Machine learning\", \"Data analysis\"],\n",
        "        \"communication\": \"Good\"\n",
        "    },\n",
        "    {\n",
        "        \"name\": \"Sarah\",\n",
        "        \"skills\": [\"Python\", \"R\", \"JavaScript\"],\n",
        "        \"experience\": [\"Natural language processing\", \"Data visualization\"],\n",
        "        \"communication\": \"Excellent\"\n",
        "    },\n",
        "    {\n",
        "        \"name\": \"Michael\",\n",
        "        \"skills\": [\"C++\", \"Java\", \"JavaScript\"],\n",
        "        \"experience\": [\"Database management\", \"Web development\"],\n",
        "        \"communication\": \"Average\"\n",
        "    }\n",
        "]\n",
        ""
      ],
      "metadata": {
        "id": "B3hlqXfojcrm"
      },
      "execution_count": 4,
      "outputs": []
    },
    {
      "cell_type": "code",
      "source": [
        "# Funtion to Calculate Similarity Score\n",
        "def calculate_similarity_score(words1, words2):\n",
        "    synsets1 = set([synset for word in words1 for synset in wordnet.synsets(word)])\n",
        "    synsets2 = set([synset for word in words2 for synset in wordnet.synsets(word)])\n",
        "    similarity_score = len(synsets1.intersection(synsets2)) / (len(synsets1) + len(synsets2))\n",
        "    return similarity_score"
      ],
      "metadata": {
        "id": "3yU2zPpNjcul"
      },
      "execution_count": 5,
      "outputs": []
    },
    {
      "cell_type": "code",
      "source": [
        "# Function to find the best candidate based on job requirements\n",
        "def find_best_candidate(job_requirements, candidate_profiles):\n",
        "    best_candidate = None\n",
        "    best_score = 0\n",
        "\n",
        "    # Tokenize job requirements\n",
        "    job_tokens = nltk.word_tokenize(job_requirements)\n",
        "\n",
        "    for candidate in candidate_profiles:\n",
        "        # Combine candidate's skills and experience\n",
        "        candidate_words = candidate[\"skills\"] + candidate[\"experience\"]\n",
        "\n",
        "        # Calculate similarity score\n",
        "        score = calculate_similarity_score(job_tokens, candidate_words)\n",
        "\n",
        "        # Update best candidate if the current score is higher\n",
        "        if score > best_score:\n",
        "            best_candidate = candidate[\"name\"]\n",
        "            best_score = score\n",
        "\n",
        "    return best_candidate\n",
        "\n"
      ],
      "metadata": {
        "id": "PTwDPnx_jcxx"
      },
      "execution_count": 6,
      "outputs": []
    },
    {
      "cell_type": "code",
      "source": [
        "# Find the best candidate\n",
        "best_candidate = find_best_candidate(job_requirements, candidate_profiles)\n",
        "print(\"The best candidate for the job is:\", best_candidate)"
      ],
      "metadata": {
        "colab": {
          "base_uri": "https://localhost:8080/"
        },
        "id": "mTPRSuBPjc0-",
        "outputId": "a2188983-16f2-4035-bcfb-c660dfe17024"
      },
      "execution_count": 7,
      "outputs": [
        {
          "output_type": "stream",
          "name": "stdout",
          "text": [
            "The best candidate for the job is: Ayushi\n"
          ]
        }
      ]
    }
  ]
}